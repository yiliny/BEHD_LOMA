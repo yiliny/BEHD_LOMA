{
 "cells": [
  {
   "cell_type": "code",
   "execution_count": 1,
   "metadata": {},
   "outputs": [],
   "source": [
    "##### Here is a file based on the calculation shown in the article \n",
    "##### J. Phys. Chem. B 2014, 118, 6466−6474\n",
    "##### See \"\"Support Information\"\" for Multi-dimensional case"
   ]
  },
  {
   "cell_type": "code",
   "execution_count": 2,
   "metadata": {},
   "outputs": [],
   "source": [
    "import numpy as np\n",
    "import math\n",
    "import matplotlib.pyplot as plt"
   ]
  },
  {
   "cell_type": "code",
   "execution_count": 3,
   "metadata": {},
   "outputs": [],
   "source": [
    "##### Define parameters/constants\n",
    "\n",
    "## time scale\n",
    "Nmax = 10000 ## Define the maximum of steps\n",
    "dt = 1e-8 ## Define the time gap ∆t (s) for each step\n",
    "\n",
    "## enviroment\n",
    "T = 298 # temperature (K)\n",
    "k_B = 1.38064852*10e-23 # Boltzmann constant\n",
    "beta = 1/(k_B*T)\n",
    "\n",
    "## mass & effective mass on each direction\n",
    "mass = 1e-6 # mass of the column, with unit of kg\n",
    "rayon = 1e-6 # 1µm = 10^{-6}m, with unit of meter\n",
    "mz = mass\n",
    "mx = mass\n",
    "mt = mass*rayon**2/2\n",
    "\n",
    "m = np.zeros(3)\n",
    "m[0] = mz\n",
    "m[1] = mx\n",
    "m[2] = mt\n",
    "grav = 9.80665 # Gravitational acceleration, with unit of m/s^2\n",
    "\n",
    "## solvent property\n",
    "kappa = 1e-4*0 ## compliance, 10^{-4} ~ 10 ^{-3}\n",
    "eps = 0.1 ## arbitrary value temporarily\n",
    "xi = 1 ## arbitrary value temporarily\n",
    "kxi = kappa*xi\n",
    "kxe = kappa*xi*eps\n",
    "\n",
    "## relevant coefficients\n",
    "coefa = np.zeros(7)\n",
    "coefb = np.zeros(7)\n",
    "coefc = np.zeros(7)\n",
    "\n",
    "coefa[1] = xi\n",
    "coefa[2] = 21*kxi/4\n",
    "coefa[3] = -kxi/4\n",
    "coefa[4] = kxi/2\n",
    "coefa[5] = -15*kxi/8\n",
    "coefa[6] = 1\n",
    "\n",
    "coefb[1] = 2*eps*xi/3\n",
    "coefb[2] = 19*kxe/24\n",
    "coefb[3] = -kxe/6\n",
    "coefb[4] = kxe/12\n",
    "coefb[5] = -kxe/12\n",
    "coefb[6] = 0\n",
    "\n",
    "coefc=coefb*2"
   ]
  },
  {
   "cell_type": "code",
   "execution_count": null,
   "metadata": {},
   "outputs": [],
   "source": []
  },
  {
   "cell_type": "code",
   "execution_count": 183,
   "metadata": {},
   "outputs": [],
   "source": []
  },
  {
   "cell_type": "code",
   "execution_count": null,
   "metadata": {},
   "outputs": [],
   "source": []
  },
  {
   "cell_type": "code",
   "execution_count": 4,
   "metadata": {},
   "outputs": [],
   "source": [
    "def _gammavalue(i,j,z,vz,vx,vt):\n",
    "    \"\"\"\n",
    "    This function would furnish the value of gamma matrix\n",
    "    i,j: matrix index\n",
    "    kappa,eps,xi: constant/parameters\n",
    "    z: vertical position\n",
    "    vz,vx,vt: velocity vector\n",
    "    \"\"\"\n",
    "    zroot = np.sqrt(z)\n",
    "    \n",
    "    if (i==0)and(j==0):\n",
    "        return xi/zroot**3 + ((15*xi)/(8*z**5) + (21*vz)/(4*zroot**9))*kappa*xi\n",
    "    if (i==1)and(j==1):\n",
    "        return (2*eps*xi)/(3*zroot) + (4*zroot*eps**2*xi+18*vz+57*eps*vt)*kappa*xi/(72*zroot**7)\n",
    "    if (i==2)and(j==2):\n",
    "        return (4*eps*xi)/(3*zroot) + ((2*eps**2*xi)/(9*z**3) + ((3+19*eps)*vz)/(12*zroot**7))*kappa*xi\n",
    "    if (i+j==1):\n",
    "        return xi*kappa*((3+eps)*vt-3*vx)/(12*zroot**7)\n",
    "    if (i+j==2)and(i*j==0):\n",
    "        return xi*kappa*((3-eps)*vx-3*vt)/(12*zroot**7)\n",
    "    if (i+j==3):\n",
    "        return ((eps**2*xi)/(9*z**3) - ((1+eps)*vz)/(4*zroot**7))*kappa*xi\n"
   ]
  },
  {
   "cell_type": "code",
   "execution_count": 5,
   "metadata": {},
   "outputs": [],
   "source": [
    "def _forcevalue(i,z,vz,vx,vt):\n",
    "    \"\"\"\n",
    "    This function would furnish the force on each direction\n",
    "    i: index, refers to z/x/t(theta)\n",
    "    z: vertical position\n",
    "    vz,vx,vt: velocity vector\n",
    "    \"\"\"\n",
    "    zroot = np.sqrt(z)\n",
    "    if (i==0):\n",
    "        return -mz*(coefa[1]*vz/(zroot**3)+\n",
    "                    coefa[2]*vz**2/(zroot*9)+\n",
    "                    coefa[3]*(vx**2+vt**2)/(zroot**7)+\n",
    "                    coefa[4]*vx*vt/(zroot**7)+\n",
    "                    coefa[6]) + grav*mz\n",
    "    if (i==1):\n",
    "        return -mx*(coefb[1]*vx/zroot+\n",
    "                    coefb[2]*vz*vx/(zroot**7)+\n",
    "                    coefb[3]*vz*vt/(zroot**7)+\n",
    "                    coefb[6])\n",
    "    if (i==2):\n",
    "        return -mt*(coefc[1]*vt/zroot+\n",
    "                    coefc[2]*vz*vt/(zroot**7)+\n",
    "                    coefc[3]*vz*vx/(zroot**7)+\n",
    "                    coefc[6])"
   ]
  },
  {
   "cell_type": "code",
   "execution_count": 6,
   "metadata": {},
   "outputs": [],
   "source": [
    "def _Minverse(i,j,z):\n",
    "    \"\"\"\n",
    "    This function would furnish the inverse M\n",
    "    i,j: index; z: vertical distance\n",
    "    \"\"\"\n",
    "    zroot = np.sqrt(z)\n",
    "    if (i+j==0):\n",
    "        return 1/mz * (1 + (15*kxi)/(8*zroot**5))\n",
    "    if (i*j==1):\n",
    "        return 1/mx * (1 + kxe/(12*zroot**5))\n",
    "    if (i==1)and(j==2):\n",
    "        return -kxe/(12*zroot**5*mt)\n",
    "    if (i==2)and(j==1):\n",
    "        return -kxe/(6*zroot**5*mx)\n",
    "    if (i+j==4):\n",
    "        return 1/mt * (1 + kxe/(6*zroot**5))\n",
    "    if (i*j==0)and(i+j!=0):\n",
    "        return 0"
   ]
  },
  {
   "cell_type": "code",
   "execution_count": null,
   "metadata": {},
   "outputs": [],
   "source": []
  },
  {
   "cell_type": "code",
   "execution_count": 7,
   "metadata": {},
   "outputs": [],
   "source": [
    "##### Define position/velocity/force vectors\n",
    "position = np.zeros((Nmax,3)) ## first index for time step, second index for z/x/t(theta)\n",
    "velocity = np.zeros((Nmax,3)) ## first index for time step, second index for z/x/t(theta)\n",
    "force = np.zeros((Nmax,3)) ## first index for time step, second index for z/x/t(theta)\n",
    "\n",
    "##### Define gamma matrix\n",
    "gamma = np.zeros((3,3))\n",
    "##### Define intermediate variable a&b related to gamma matrix\n",
    "intma = np.zeros((3,3))\n",
    "intmb = np.zeros((3,3))\n",
    "\n",
    "##### Define M inverse matrix\n",
    "Minv = np.zeros((3,3))\n",
    "\n"
   ]
  },
  {
   "cell_type": "code",
   "execution_count": null,
   "metadata": {},
   "outputs": [],
   "source": []
  },
  {
   "cell_type": "code",
   "execution_count": null,
   "metadata": {},
   "outputs": [],
   "source": [
    "def _updategamma(z,vz,vx,vt):\n",
    "    \"\"\"\n",
    "    This procedure would update the value of gamma matrix\n",
    "    z: vertical position\n",
    "    vz,vx,vt: velocity on each direction\n",
    "    \"\"\"\n",
    "    for i in range(3):\n",
    "        for j in range(3):\n",
    "            gamma[i,j] = _gammavalue(i,j,z,vz,vx,vt)"
   ]
  },
  {
   "cell_type": "code",
   "execution_count": null,
   "metadata": {},
   "outputs": [],
   "source": [
    "def _updateforce(indice,z,vz,vx,vt):\n",
    "    \"\"\"\n",
    "    This procedure would update the value of force vector\n",
    "    indice: refers to the time step\n",
    "    z: vertical position\n",
    "    vz,vx,vt: velocity on each direction\n",
    "    \"\"\"\n",
    "    for i in range(3):\n",
    "        force[indice,i] = _forcevalue(i,z,vz,vx,vt)"
   ]
  },
  {
   "cell_type": "code",
   "execution_count": 8,
   "metadata": {},
   "outputs": [],
   "source": [
    "def _updateMinverse(z):\n",
    "    \"\"\"\n",
    "    This procedure would update the value of Minverse\n",
    "    z: vertical position\n",
    "    \"\"\"\n",
    "    for i in range(3):\n",
    "        for j in range(3):\n",
    "            Minv[i,j] = _Minverse(i,j,z)\n",
    "\n",
    "\n",
    "def _updateintm():\n",
    "    \"\"\"\n",
    "    This procedure would update the values of intma & intmb\n",
    "    ## a=exp(-gamma*dt)\n",
    "    ## b=sqrt(2/(gamma*dt)*tanh(gamma*dt/2))\n",
    "    \"\"\"\n",
    "    intma=np.exp(-gamma*dt)\n",
    "    \n",
    "    gt2=gamma*dt/2\n",
    "    for i in range(3):\n",
    "        for j in range(3):\n",
    "            if (gamma[i,j]==0):\n",
    "                intmb[i,j] = 1 # Consider the limit if gamma->0 to avoid \"nan\"\n",
    "            else:\n",
    "                intmb[i,j] = np.sqrt(np.tanh(gt2[i,j])/gt2[i,j])"
   ]
  },
  {
   "cell_type": "code",
   "execution_count": null,
   "metadata": {},
   "outputs": [],
   "source": []
  },
  {
   "cell_type": "code",
   "execution_count": null,
   "metadata": {},
   "outputs": [],
   "source": []
  },
  {
   "cell_type": "code",
   "execution_count": 9,
   "metadata": {},
   "outputs": [],
   "source": [
    "### initial height\n",
    "position[0,0] = 1e-7\n",
    "velocity[0,:] = np.random.default_rng().normal(loc=0.0, scale=1.0, size=3)*1e-6 # if kappa=0, no correction about velocity\n",
    "\n",
    "## gamma matrix initiation\n",
    "_updategamma(position[0,0],velocity[0,0],velocity[0,1],velocity[0,2])\n",
    "## intma & intmb initiation\n",
    "_updateintm()\n",
    "## force vector initiation\n",
    "_updateforce(0,position[0,0],velocity[0,0],velocity[0,1],velocity[0,2])\n",
    "## M inverse matrix initiation\n",
    "_updateMinverse(position[0,0])"
   ]
  },
  {
   "cell_type": "code",
   "execution_count": 10,
   "metadata": {},
   "outputs": [
    {
     "name": "stdout",
     "output_type": "stream",
     "text": [
      "gamma=\n",
      "[[ 3.16227766e+10  0.00000000e+00 -0.00000000e+00]\n",
      " [ 0.00000000e+00  2.10818511e+02  0.00000000e+00]\n",
      " [-0.00000000e+00  0.00000000e+00  4.21637021e+02]]\n",
      "\n",
      "intma=\n",
      "[[0. 0. 0.]\n",
      " [0. 0. 0.]\n",
      " [0. 0. 0.]]\n",
      "\n",
      "intmb=\n",
      "[[0.07952707 1.         1.        ]\n",
      " [1.         1.         1.        ]\n",
      " [1.         1.         1.        ]]\n",
      "\n",
      "intma dot intmb\n",
      "[[0. 0. 0.]\n",
      " [0. 0. 0.]\n",
      " [0. 0. 0.]]\n",
      "\n",
      "np.sqrt(intma)\n",
      "[[0. 0. 0.]\n",
      " [0. 0. 0.]\n",
      " [0. 0. 0.]]\n",
      "\n",
      "np.dot(np.sqrt(intma),velocity[0,:])\n",
      "[0. 0. 0.]\n",
      "\n",
      "Initial force vector = \n",
      "[3.03766689e-02 1.93440656e-10 3.84615629e-23]\n",
      "\n",
      "Initial Minverse matrix = \n",
      "[[ 1.e+06  0.e+00  0.e+00]\n",
      " [ 0.e+00  1.e+06 -0.e+00]\n",
      " [ 0.e+00 -0.e+00  2.e+18]]\n",
      "\n"
     ]
    }
   ],
   "source": [
    "print(\"gamma=\")\n",
    "print(gamma)\n",
    "print(\"\")\n",
    "\n",
    "print(\"intma=\")\n",
    "print(intma)\n",
    "print(\"\")\n",
    "\n",
    "print(\"intmb=\")\n",
    "print(intmb)\n",
    "print(\"\")\n",
    "\n",
    "print(\"intma dot intmb\")\n",
    "print(intma@intmb)\n",
    "print(\"\")\n",
    "\n",
    "print(\"np.sqrt(intma)\")\n",
    "print(np.sqrt(intma))\n",
    "print(\"\")\n",
    "\n",
    "print(\"np.dot(np.sqrt(intma),velocity[0,:])\")\n",
    "print(np.dot(np.sqrt(intma),velocity[0,:]))\n",
    "print(\"\")\n",
    "\n",
    "print(\"Initial force vector = \")\n",
    "print(force[0,:])\n",
    "print(\"\")\n",
    "\n",
    "print(\"Initial Minverse matrix = \")\n",
    "print(Minv)\n",
    "print(\"\")"
   ]
  },
  {
   "cell_type": "code",
   "execution_count": null,
   "metadata": {},
   "outputs": [],
   "source": []
  },
  {
   "cell_type": "code",
   "execution_count": null,
   "metadata": {},
   "outputs": [],
   "source": []
  },
  {
   "cell_type": "code",
   "execution_count": null,
   "metadata": {},
   "outputs": [],
   "source": []
  },
  {
   "cell_type": "code",
   "execution_count": null,
   "metadata": {},
   "outputs": [],
   "source": []
  },
  {
   "cell_type": "code",
   "execution_count": null,
   "metadata": {},
   "outputs": [],
   "source": [
    "##### Define intermediate position/velocity vectors\n",
    "p12 = np.zeros(3) ## intermediate position (n+1/2)\n",
    "v14 = np.zeros(3)\n",
    "v24 = np.zeros(3)\n",
    "v34 = np.zeros(3) ## intermediate velocity (n+1/4), (n+1/2), (n+3/4)\n",
    "\n",
    "i = 0"
   ]
  },
  {
   "cell_type": "code",
   "execution_count": null,
   "metadata": {},
   "outputs": [],
   "source": []
  },
  {
   "cell_type": "code",
   "execution_count": null,
   "metadata": {},
   "outputs": [],
   "source": []
  },
  {
   "cell_type": "code",
   "execution_count": null,
   "metadata": {},
   "outputs": [],
   "source": []
  },
  {
   "cell_type": "code",
   "execution_count": null,
   "metadata": {},
   "outputs": [],
   "source": []
  },
  {
   "cell_type": "code",
   "execution_count": null,
   "metadata": {},
   "outputs": [],
   "source": []
  },
  {
   "cell_type": "code",
   "execution_count": null,
   "metadata": {},
   "outputs": [],
   "source": []
  },
  {
   "cell_type": "code",
   "execution_count": null,
   "metadata": {},
   "outputs": [],
   "source": []
  },
  {
   "cell_type": "code",
   "execution_count": null,
   "metadata": {},
   "outputs": [],
   "source": []
  },
  {
   "cell_type": "code",
   "execution_count": 61,
   "metadata": {},
   "outputs": [
    {
     "name": "stderr",
     "output_type": "stream",
     "text": [
      "/Users/aratame/anaconda3/lib/python3.7/site-packages/ipykernel_launcher.py:8: RuntimeWarning: invalid value encountered in sqrt\n",
      "  \n"
     ]
    }
   ],
   "source": [
    "##### Follow the calculs shown in jp411770f\n",
    "## v(n+1/4)=sqrt(a)*v(n)+sqrt((1-a)/(beta*m))*N(n)\n",
    "## v(n+1/2)=v(n+1/4)+b*dt/2*f(n)/m\n",
    "## r(n+1/2)=r(n)+b*dt/2*v(n+1/2)\n",
    "## H(n)->H(n+1)\n",
    "## r(n+1)=r(n+1/2)+b*dt/2*v(n+1/2)\n",
    "## v(n+3/4)=v(n+1/2)+b*dt/2*f(n+1)/m\n",
    "## v(n+1)=sqrt(a)*v(n+3/4)+sqrt((1-a)/(beta*m))*N(n+1)\n",
    "\n",
    "\n",
    "\n",
    "#for i in range(11):\n",
    "    # Gauss(0,1) white noise\n",
    "    grandNp = np.random.default_rng().normal(loc=0.0, scale=1.0, size=3)\n",
    "    grandNm = np.random.default_rng().normal(loc=0.0, scale=1.0, size=3)\n",
    "    \n",
    "    v14 = np.sqrt(intma)@velocity[i,:] + np.sqrt((1-intma)@Minv/beta)@grandNp\n",
    "    _updategamma(position[i,0],v14[0],v14[1],v14[2])\n",
    "    _updateintm()\n",
    "    #_updateforce(i,position[i,0],v14[0],v14[1],v14[2])\n",
    "    #_updateMinverse(position[i,0])\n",
    "    \n",
    "    v24 = v14 + dt/2 * intmb@Minv@force[i,:]\n",
    "    _updategamma(position[i,0],v24[0],v24[1],v24[2])\n",
    "    _updateintm()\n",
    "    #_updateforce(i,position[i,0],v24[0],v24[1],v24[2])\n",
    "    #_updateMinverse(position[i,0])\n",
    "    \n",
    "    \n",
    "    p12 = position[i,:] + dt/2 * intmb@v24\n",
    "    _updategamma(p12[0],v24[0],v24[1],v24[2])\n",
    "    _updateintm()\n",
    "    #_updateforce(i,p12[0],v24[0],v24[1],v24[2])\n",
    "    _updateMinverse(p12[0])\n",
    "    \n",
    "    #force[i+1,:] = _forcevalue(i,p12[0],v24[0],v24[1],v24[2])\n",
    "    _updateforce(i+1,p12[0],v24[0],v24[1],v24[2])\n",
    "    \n",
    "    position[i+1,:] = p12 + dt/2 * intmb@v24\n",
    "    _updategamma(position[i+1,0],v24[0],v24[1],v24[2])\n",
    "    _updateintm()\n",
    "    #_updateforce(i,p12[0],v24[0],v24[1],v24[2])\n",
    "    _updateMinverse(position[i+1,0])\n",
    "    \n",
    "    v34 = v24 + dt/2 * intmb@Minv@force[i,:]\n",
    "    _updategamma(position[i+1,0],v34[0],v34[1],v34[2])\n",
    "    _updateintm()\n",
    "    #_updateforce(i,p12[0],v24[0],v24[1],v24[2])\n",
    "    #_updateMinverse(position[i+1,0])\n",
    "    \n",
    "    \n",
    "    velocity[i+1,:] = np.sqrt(intma)@v34 + np.sqrt((1-intma)@Minv/beta)@grandNm\n",
    "    _updategamma(position[i+1,0],velocity[i+1,0],velocity[i+1,1],velocity[i+1,2])\n",
    "    _updateintm()\n",
    "    #_updateforce(i,p12[0],v24[0],v24[1],v24[2])\n",
    "    #_updateMinverse(position[i+1,0])\n",
    "    \n",
    "    i=i+1"
   ]
  },
  {
   "cell_type": "code",
   "execution_count": 66,
   "metadata": {},
   "outputs": [
    {
     "name": "stdout",
     "output_type": "stream",
     "text": [
      "[nan nan nan]\n",
      "[[1.30086051e-17 0.00000000e+00 0.00000000e+00]\n",
      " [0.00000000e+00 8.67377459e-22 0.00000000e+00]\n",
      " [0.00000000e+00 0.00000000e+00 3.46950980e-09]]\n",
      "[[1.30086051e-17 0.00000000e+00 0.00000000e+00]\n",
      " [0.00000000e+00 8.67377459e-22 0.00000000e+00]\n",
      " [0.00000000e+00 0.00000000e+00 3.46950980e-09]]\n"
     ]
    }
   ],
   "source": [
    "print(np.dot(np.sqrt(intma),velocity[4,:]))\n",
    "\n",
    "print((1-intma)@Minv/beta)\n",
    "print(np.dot(1-intma,Minv)/(beta))\n",
    "\n",
    "#print(np.dot(np.sqrt(np.dot(1-intma,Minv)/(beta)),grandNp))\n"
   ]
  },
  {
   "cell_type": "code",
   "execution_count": 60,
   "metadata": {},
   "outputs": [
    {
     "name": "stdout",
     "output_type": "stream",
     "text": [
      "[ 9.99999999e-04 -8.70503340e-13 -8.70503340e-13]\n",
      "[nan nan nan]\n"
     ]
    }
   ],
   "source": [
    "print(position[1,:])\n",
    "\n",
    "print(position[1000,:])"
   ]
  },
  {
   "cell_type": "code",
   "execution_count": 67,
   "metadata": {},
   "outputs": [
    {
     "data": {
      "text/plain": [
       "[<matplotlib.lines.Line2D at 0x7ff7d5a18b10>]"
      ]
     },
     "execution_count": 67,
     "metadata": {},
     "output_type": "execute_result"
    },
    {
     "data": {
      "image/png": "[encoded data removed]",
      "text/plain": [
       "<Figure size 432x288 with 1 Axes>"
      ]
     },
     "metadata": {
      "needs_background": "light"
     },
     "output_type": "display_data"
    }
   ],
   "source": [
    "plt.plot(position[:,0],\"x\")\n",
    "plt.plot([0,Nmax],[0,0],color='red')"
   ]
  },
  {
   "cell_type": "code",
   "execution_count": 315,
   "metadata": {},
   "outputs": [],
   "source": [
    "## MSD, mean square displacement\n",
    "## c_{AA}(∆t) = 1/N * \\sum_{j=1}^N A(t_j)*A(t_j + ∆t)\n",
    "\n",
    "pMSD = np.zeros(Nmax)\n",
    "\n",
    "for i in range(1,Nmax): ## loop for \n",
    "    pMSD[i] = (position[i,0]**2 + pMSD[i-1])/i"
   ]
  },
  {
   "cell_type": "code",
   "execution_count": null,
   "metadata": {},
   "outputs": [],
   "source": []
  },
  {
   "cell_type": "code",
   "execution_count": 316,
   "metadata": {},
   "outputs": [
    {
     "data": {
      "text/plain": [
       "array([0.00000000e+00, 9.51885534e-12, 4.20370542e-11, 2.89404549e-11,\n",
       "       1.18592850e-11, 1.52675043e-11, 3.35278137e-11, 1.24695941e-11,\n",
       "       5.21322328e-12, 9.56969152e-11])"
      ]
     },
     "execution_count": 316,
     "metadata": {},
     "output_type": "execute_result"
    }
   ],
   "source": [
    "pMSD[0:10]"
   ]
  },
  {
   "cell_type": "code",
   "execution_count": 318,
   "metadata": {},
   "outputs": [
    {
     "data": {
      "text/plain": [
       "[<matplotlib.lines.Line2D at 0x7f8eceaf2190>]"
      ]
     },
     "execution_count": 318,
     "metadata": {},
     "output_type": "execute_result"
    },
    {
     "data": {
      "image/png": "[encoded data removed]",
      "text/plain": [
       "<Figure size 432x288 with 1 Axes>"
      ]
     },
     "metadata": {
      "needs_background": "light"
     },
     "output_type": "display_data"
    }
   ],
   "source": [
    "plt.plot(pMSD,color='blue')\n",
    "plt.plot(position[:,0]**2,color='red')"
   ]
  },
  {
   "cell_type": "code",
   "execution_count": 319,
   "metadata": {},
   "outputs": [
    {
     "data": {
      "text/plain": [
       "[<matplotlib.lines.Line2D at 0x7f8ececa8d10>]"
      ]
     },
     "execution_count": 319,
     "metadata": {},
     "output_type": "execute_result"
    },
    {
     "data": {
      "image/png": "[encoded data removed]",
      "text/plain": [
       "<Figure size 432x288 with 1 Axes>"
      ]
     },
     "metadata": {
      "needs_background": "light"
     },
     "output_type": "display_data"
    }
   ],
   "source": [
    "plt.plot(velocity[:,0])\n",
    "plt.plot([0,Nmax],[0,0],color='red')"
   ]
  },
  {
   "cell_type": "code",
   "execution_count": 320,
   "metadata": {},
   "outputs": [],
   "source": [
    "## MSD, mean square displacement\n",
    "\n",
    "vMSD = np.zeros(Nmax)\n",
    "\n",
    "for i in range(1,Nmax): ## loop for \n",
    "    vMSD[i] = (velocity[i,0]**2 +vMSD[i-1])/i"
   ]
  },
  {
   "cell_type": "code",
   "execution_count": 321,
   "metadata": {},
   "outputs": [
    {
     "data": {
      "text/plain": [
       "array([-7.13177994e-07,  7.36246226e-06, -1.05109522e-05, -1.15989802e-05,\n",
       "       -7.40218494e-06, -6.60085654e-06,  2.03462053e-05,  1.67839040e-05,\n",
       "        2.85469269e-05])"
      ]
     },
     "execution_count": 321,
     "metadata": {},
     "output_type": "execute_result"
    }
   ],
   "source": [
    "velocity[1:10,0]"
   ]
  },
  {
   "cell_type": "code",
   "execution_count": 322,
   "metadata": {},
   "outputs": [
    {
     "data": {
      "text/plain": [
       "array([5.08622852e-13, 5.42058506e-11, 1.10480117e-10, 1.34536341e-10,\n",
       "       5.47923419e-11, 4.35713071e-11, 4.13968069e-10, 2.81699435e-10,\n",
       "       8.14927037e-10])"
      ]
     },
     "execution_count": 322,
     "metadata": {},
     "output_type": "execute_result"
    }
   ],
   "source": [
    "velocity[1:10,0]**2"
   ]
  },
  {
   "cell_type": "code",
   "execution_count": 324,
   "metadata": {},
   "outputs": [
    {
     "data": {
      "text/plain": [
       "[<matplotlib.lines.Line2D at 0x7f8ecf125550>]"
      ]
     },
     "execution_count": 324,
     "metadata": {},
     "output_type": "execute_result"
    },
    {
     "data": {
      "image/png": "[encoded data removed]",
      "text/plain": [
       "<Figure size 432x288 with 1 Axes>"
      ]
     },
     "metadata": {
      "needs_background": "light"
     },
     "output_type": "display_data"
    }
   ],
   "source": [
    "plt.plot(vMSD)\n",
    "plt.plot([0,Nmax],[1/(beta*m),1/(beta*m)],color='red')"
   ]
  },
  {
   "cell_type": "code",
   "execution_count": 330,
   "metadata": {},
   "outputs": [],
   "source": [
    "## Verify the Time Correlation Function\n",
    "## c_{AA}(∆t) = 1/N * \\sum_{j=1}^N A(t_j)*A(t_j + ∆t)\n",
    "\n",
    "vTCF = np.zeros(Nmax)\n",
    "\n",
    "for i in range(Nmax-1): ## loop for ∆t\n",
    "    for j in range(Nmax-i): ## loop for t_i\n",
    "        vTCF[i] = vTCF[i] + velocity[j,0] * velocity[j+i,0]\n",
    "\n",
    "    vTCF[i] = vTCF[i] / (Nmax-i)\n",
    "\n"
   ]
  },
  {
   "cell_type": "code",
   "execution_count": 331,
   "metadata": {},
   "outputs": [
    {
     "data": {
      "image/png": "[encoded data removed]",
      "text/plain": [
       "<Figure size 432x288 with 1 Axes>"
      ]
     },
     "metadata": {
      "needs_background": "light"
     },
     "output_type": "display_data"
    }
   ],
   "source": [
    "plt.plot(vTCF)\n",
    "times=range(30)\n",
    "#plt.plot(np.exp(-gamma*times[0:9])/(beta*m))\n",
    "#plt.plot(1/(np.exp(times)*beta*m*np.exp(gamma)),color='red')"
   ]
  },
  {
   "cell_type": "code",
   "execution_count": null,
   "metadata": {},
   "outputs": [],
   "source": []
  },
  {
   "cell_type": "code",
   "execution_count": null,
   "metadata": {},
   "outputs": [],
   "source": []
  },
  {
   "cell_type": "code",
   "execution_count": null,
   "metadata": {},
   "outputs": [],
   "source": []
  },
  {
   "cell_type": "code",
   "execution_count": null,
   "metadata": {},
   "outputs": [],
   "source": []
  },
  {
   "cell_type": "code",
   "execution_count": null,
   "metadata": {},
   "outputs": [],
   "source": []
  },
  {
   "cell_type": "code",
   "execution_count": null,
   "metadata": {},
   "outputs": [],
   "source": []
  },
  {
   "cell_type": "code",
   "execution_count": null,
   "metadata": {},
   "outputs": [],
   "source": []
  }
 ],
 "metadata": {
  "kernelspec": {
   "display_name": "Python 3",
   "language": "python",
   "name": "python3"
  },
  "language_info": {
   "codemirror_mode": {
    "name": "ipython",
    "version": 3
   },
   "file_extension": ".py",
   "mimetype": "text/x-python",
   "name": "python",
   "nbconvert_exporter": "python",
   "pygments_lexer": "ipython3",
   "version": "3.7.4"
  }
 },
 "nbformat": 4,
 "nbformat_minor": 4
}
