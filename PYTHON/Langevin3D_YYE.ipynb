{
 "cells": [
  {
   "cell_type": "code",
   "execution_count": 1,
   "metadata": {},
   "outputs": [],
   "source": [
    "##### Yilin YE @ Mar. 2022\n",
    "##### EHD + Brownian motion\n",
    "##### Based on 1412.0162\n",
    "\n",
    "##### Here is a file based on the technique shown in the article \n",
    "##### J. Phys. Chem. B 2014, 118, 6466−6474\n",
    "##### See \"\"Support Information\"\" for the Multi-dimensional case"
   ]
  },
  {
   "cell_type": "code",
   "execution_count": 2,
   "metadata": {},
   "outputs": [],
   "source": [
    "import numpy as np\n",
    "import math\n",
    "import matplotlib.pyplot as plt"
   ]
  },
  {
   "cell_type": "code",
   "execution_count": 3,
   "metadata": {},
   "outputs": [],
   "source": [
    "##### Define parameters/constants\n",
    "\n",
    "## time scale\n",
    "Nmax = 10000 ## Define the maximum of steps\n",
    "dt = 1e-13 ## Define the time gap ∆t (s) for each step\n",
    "\n",
    "## enviroment\n",
    "T = 298 # temperature (K)\n",
    "k_B = 1.38064852*10e-23 # Boltzmann constant\n",
    "beta = 1/(k_B*T)\n",
    "\n",
    "## mass & effective mass on each direction\n",
    "\n",
    "rayon = 1.5e-6 # 1µm = 10^{-6}m, with unit of meter\n",
    "rhosty = 1.06e3 # density of polystyrene, kg/m3\n",
    "rhosol = 1.00e3 # density of solvent, kg/m3\n",
    "mass = 4/3*3.1415926*rayon**3*rhosty # mass of the column, with unit of kg\n",
    "mz = mass\n",
    "mx = mass\n",
    "mt = mass*rayon**2/2\n",
    "\n",
    "m = np.zeros(3)\n",
    "m[0] = mz\n",
    "m[1] = mx\n",
    "m[2] = mt\n",
    "grav = 9.80665 # Gravitational acceleration, with unit of m/s^2\n",
    "\n",
    "## solvent property\n",
    "kappa = 1e-4*0 ## compliance, 10^{-4} ~ 10 ^{-3}\n",
    "eps = 0.1 ## arbitrary value temporarily\n",
    "xi = 1 ## arbitrary value temporarily\n",
    "kxi = kappa*xi\n",
    "kxe = kappa*xi*eps\n",
    "\n",
    "## relevant coefficients\n",
    "coefa = np.zeros(7)\n",
    "coefb = np.zeros(7)\n",
    "coefc = np.zeros(7)\n",
    "\n",
    "coefa[1] = xi\n",
    "coefa[2] = 21*kxi/4\n",
    "coefa[3] = -kxi/4\n",
    "coefa[4] = kxi/2\n",
    "coefa[5] = -15*kxi/8\n",
    "coefa[6] = 1\n",
    "\n",
    "coefb[1] = 2*eps*xi/3\n",
    "coefb[2] = 19*kxe/24\n",
    "coefb[3] = -kxe/6\n",
    "coefb[4] = kxe/12\n",
    "coefb[5] = -kxe/12\n",
    "coefb[6] = 0\n",
    "\n",
    "coefc=coefb*2"
   ]
  },
  {
   "cell_type": "code",
   "execution_count": 4,
   "metadata": {},
   "outputs": [],
   "source": [
    "def _gammavalue(i,j,z,vz,vx,vt):\n",
    "    \"\"\"\n",
    "    This function would furnish the value of gamma matrix\n",
    "    i,j: matrix index\n",
    "    kappa,eps,xi: constant/parameters\n",
    "    z: vertical position\n",
    "    vz,vx,vt: velocity vector\n",
    "    \"\"\"\n",
    "    zroot = np.sqrt(z)\n",
    "    \n",
    "    if (i==0)and(j==0):\n",
    "        return xi/zroot**3 + ((15*xi)/(8*z**5) + (21*vz)/(4*zroot**9))*kappa*xi\n",
    "    if (i==1)and(j==1):\n",
    "        return (2*eps*xi)/(3*zroot) + (4*zroot*eps**2*xi+18*vz+57*eps*vt)*kappa*xi/(72*zroot**7)\n",
    "    if (i==2)and(j==2):\n",
    "        return (4*eps*xi)/(3*zroot) + ((2*eps**2*xi)/(9*z**3) + ((3+19*eps)*vz)/(12*zroot**7))*kappa*xi\n",
    "    if (i+j==1):\n",
    "        return xi*kappa*((3+eps)*vt-3*vx)/(12*zroot**7)\n",
    "    if (i+j==2)and(i*j==0):\n",
    "        return xi*kappa*((3-eps)*vx-3*vt)/(12*zroot**7)\n",
    "    if (i+j==3):\n",
    "        return ((eps**2*xi)/(9*z**3) - ((1+eps)*vz)/(4*zroot**7))*kappa*xi\n"
   ]
  },
  {
   "cell_type": "code",
   "execution_count": 5,
   "metadata": {},
   "outputs": [],
   "source": [
    "def _forcevalue(i,z,vz,vx,vt):\n",
    "    \"\"\"\n",
    "    This function would furnish the force on each direction\n",
    "    i: index, refers to z/x/t(theta)\n",
    "    z: vertical position\n",
    "    vz,vx,vt: velocity vector\n",
    "    \"\"\"\n",
    "    zroot = np.sqrt(z)\n",
    "    if (i==0):\n",
    "        return -mz*(coefa[1]*vz/(zroot**3)+\n",
    "                    coefa[2]*vz**2/(zroot*9)+\n",
    "                    coefa[3]*(vx**2+vt**2)/(zroot**7)+\n",
    "                    coefa[4]*vx*vt/(zroot**7)+\n",
    "                    coefa[6])*0 - grav*mz*(rhosty-rhosol*1)\n",
    "    if (i==1):\n",
    "        return -mx*(coefb[1]*vx/zroot+\n",
    "                    coefb[2]*vz*vx/(zroot**7)+\n",
    "                    coefb[3]*vz*vt/(zroot**7)+\n",
    "                    coefb[6])*0\n",
    "    if (i==2):\n",
    "        return -mt*(coefc[1]*vt/zroot+\n",
    "                    coefc[2]*vz*vt/(zroot**7)+\n",
    "                    coefc[3]*vz*vx/(zroot**7)+\n",
    "                    coefc[6])*0"
   ]
  },
  {
   "cell_type": "code",
   "execution_count": 6,
   "metadata": {},
   "outputs": [],
   "source": [
    "def _Minverse(i,j,z):\n",
    "    \"\"\"\n",
    "    This function would furnish the inverse M\n",
    "    i,j: index; z: vertical distance\n",
    "    \"\"\"\n",
    "    zroot = np.sqrt(z)\n",
    "    if (i+j==0):\n",
    "        return 1/mz * (1 + (15*kxi)/(8*zroot**5))\n",
    "    if (i*j==1):\n",
    "        return 1/mx * (1 + kxe/(12*zroot**5))\n",
    "    if (i==1)and(j==2):\n",
    "        return -kxe/(12*zroot**5*mt)\n",
    "    if (i==2)and(j==1):\n",
    "        return -kxe/(6*zroot**5*mx)\n",
    "    if (i+j==4):\n",
    "        return 1/mt * (1 + kxe/(6*zroot**5))\n",
    "    if (i*j==0)and(i+j!=0):\n",
    "        return 0"
   ]
  },
  {
   "cell_type": "code",
   "execution_count": 7,
   "metadata": {},
   "outputs": [],
   "source": [
    "##### Define position/velocity/force vectors\n",
    "position = np.zeros((Nmax,3)) ## first index for time step, second index for z/x/t(theta)\n",
    "velocity = np.zeros((Nmax,3)) ## first index for time step, second index for z/x/t(theta)\n",
    "force = np.zeros((Nmax,3)) ## first index for time step, second index for z/x/t(theta)\n",
    "\n",
    "##### Define gamma matrix\n",
    "gamma = np.zeros((3,3))\n",
    "\n",
    "##### Define M inverse matrix\n",
    "Minv = np.zeros((3,3))\n"
   ]
  },
  {
   "cell_type": "code",
   "execution_count": 8,
   "metadata": {},
   "outputs": [],
   "source": [
    "def _updategamma(z,vz,vx,vt):\n",
    "    \"\"\"\n",
    "    This procedure would update the value of gamma matrix\n",
    "    z: vertical position\n",
    "    vz,vx,vt: velocity on each direction\n",
    "    \"\"\"\n",
    "    for i in range(3):\n",
    "        for j in range(3):\n",
    "            gamma[i,j] = _gammavalue(i,j,z,vz,vx,vt)"
   ]
  },
  {
   "cell_type": "code",
   "execution_count": 9,
   "metadata": {},
   "outputs": [],
   "source": [
    "def _updateforce(indice,z,vz,vx,vt):\n",
    "    \"\"\"\n",
    "    This procedure would update the value of force vector\n",
    "    indice: refers to the time step\n",
    "    z: vertical position\n",
    "    vz,vx,vt: velocity on each direction\n",
    "    \"\"\"\n",
    "    for i in range(3):\n",
    "        force[indice,i] = _forcevalue(i,z,vz,vx,vt)"
   ]
  },
  {
   "cell_type": "code",
   "execution_count": 10,
   "metadata": {},
   "outputs": [],
   "source": [
    "def _updateMinverse(z):\n",
    "    \"\"\"\n",
    "    This procedure would update the value of Minverse\n",
    "    z: vertical position\n",
    "    \"\"\"\n",
    "    for i in range(3):\n",
    "        for j in range(3):\n",
    "            Minv[i,j] = _Minverse(i,j,z)"
   ]
  },
  {
   "cell_type": "code",
   "execution_count": 11,
   "metadata": {},
   "outputs": [],
   "source": [
    "### initial height\n",
    "position[0,0] = 5e-7 # 0.5µm\n",
    "#velocity[0,:] = np.random.default_rng().normal(loc=0.0, scale=1.0, size=3)*1e-6 # if kappa=0, no correction about velocity\n",
    "\n",
    "## gamma matrix initiation\n",
    "_updategamma(position[0,0],velocity[0,0],velocity[0,1],velocity[0,2])\n",
    "## force vector initiation\n",
    "_updateforce(0,position[0,0],velocity[0,0],velocity[0,1],velocity[0,2])\n",
    "## M inverse matrix initiation\n",
    "_updateMinverse(position[0,0])"
   ]
  },
  {
   "cell_type": "code",
   "execution_count": 12,
   "metadata": {},
   "outputs": [
    {
     "name": "stdout",
     "output_type": "stream",
     "text": [
      "Initial gamma matrix = \n",
      "[[2.82842712e+09 0.00000000e+00 0.00000000e+00]\n",
      " [0.00000000e+00 9.42809042e+01 0.00000000e+00]\n",
      " [0.00000000e+00 0.00000000e+00 1.88561808e+02]]\n",
      "\n",
      "Initial velocity vector = \n",
      "[0. 0. 0.]\n",
      "\n",
      "Initial force vector = \n",
      "[-8.81739243e-12 -0.00000000e+00 -0.00000000e+00]\n",
      "\n",
      "Initial Minverse matrix = \n",
      "[[ 6.67316335e+13  0.00000000e+00  0.00000000e+00]\n",
      " [ 0.00000000e+00  6.67316335e+13 -0.00000000e+00]\n",
      " [ 0.00000000e+00 -0.00000000e+00  5.93170075e+25]]\n",
      "\n"
     ]
    }
   ],
   "source": [
    "print(\"Initial gamma matrix = \")\n",
    "print(gamma)\n",
    "print(\"\")\n",
    "\n",
    "print(\"Initial velocity vector = \")\n",
    "print(velocity[0,:])\n",
    "print(\"\")\n",
    "\n",
    "print(\"Initial force vector = \")\n",
    "print(force[0,:])\n",
    "print(\"\")\n",
    "\n",
    "print(\"Initial Minverse matrix = \")\n",
    "print(Minv)\n",
    "print(\"\")"
   ]
  },
  {
   "cell_type": "code",
   "execution_count": 13,
   "metadata": {},
   "outputs": [],
   "source": [
    "def _updateintm():\n",
    "    \"\"\"\n",
    "    This procedure would update the values of intma & intmb\n",
    "    ## a=exp(-gamma*dt)\n",
    "    ## b=sqrt(2/(gamma*dt)*tanh(gamma*dt/2))\n",
    "    \"\"\"\n",
    "    for i in range(3):\n",
    "        for j in range(3):\n",
    "            if (i!=j)and(gamma[i,j]==0):\n",
    "                intma[i,j] = 0\n",
    "                intmb[i,j] = 0\n",
    "            else:\n",
    "                intma[i,j] = np.exp(-gamma[i,j]*dt)\n",
    "                gt2=gamma[i,j]*dt/2\n",
    "                intmb[i,j] = np.sqrt(np.tanh(gt2)/gt2)\n",
    "            #if (gamma[i,j]==0):\n",
    "            #    intmb[i,j] = 1 # Consider the limit if gamma->0 to avoid \"nan\""
   ]
  },
  {
   "cell_type": "code",
   "execution_count": 14,
   "metadata": {},
   "outputs": [],
   "source": [
    "##### Define intermediate position/velocity vectors\n",
    "p12 = np.zeros(3) ## intermediate position (n+1/2)\n",
    "v14 = np.zeros(3)\n",
    "v24 = np.zeros(3)\n",
    "v34 = np.zeros(3) ## intermediate velocity (n+1/4), (n+1/2), (n+3/4)\n",
    "\n",
    "##### Define intermediate variable a&b related to gamma matrix\n",
    "intma = np.zeros((3,3))\n",
    "intmb = np.zeros((3,3))\n",
    "## intma & intmb initiation\n",
    "_updateintm()\n",
    "\n",
    "\n",
    "i = 0"
   ]
  },
  {
   "cell_type": "code",
   "execution_count": 15,
   "metadata": {},
   "outputs": [
    {
     "name": "stdout",
     "output_type": "stream",
     "text": [
      "intma=\n",
      "[[0.9997172 0.        0.       ]\n",
      " [0.        1.        0.       ]\n",
      " [0.        0.        1.       ]]\n",
      "\n",
      "intmb=\n",
      "[[1. 0. 0.]\n",
      " [0. 1. 0.]\n",
      " [0. 0. 1.]]\n",
      "\n",
      "np.sqrt((1-intma)@Minv/beta)\n",
      "[[2.78648920e-05 1.65697355e-03 1.56220964e+03]\n",
      " [1.65697355e-03 5.08777902e-09 1.56220964e+03]\n",
      " [1.65697355e-03 1.65697355e-03 6.78368539e-03]]\n",
      "\n",
      "np.dot(np.sqrt(intma),velocity[0,:])\n",
      "[0. 0. 0.]\n",
      "\n"
     ]
    }
   ],
   "source": [
    "print(\"intma=\")\n",
    "print(intma)\n",
    "print(\"\")\n",
    "\n",
    "print(\"intmb=\")\n",
    "print(intmb)\n",
    "print(\"\")\n",
    "\n",
    "print(\"np.sqrt((1-intma)@Minv/beta)\")\n",
    "print(np.sqrt((1-intma)@Minv/beta))\n",
    "print(\"\")\n",
    "\n",
    "print(\"np.dot(np.sqrt(intma),velocity[0,:])\")\n",
    "print(np.dot(np.sqrt(intma),velocity[0,:]))\n",
    "print(\"\")"
   ]
  },
  {
   "cell_type": "code",
   "execution_count": 16,
   "metadata": {},
   "outputs": [],
   "source": [
    "##### Follow the calculs shown in jp411770f\n",
    "## v(n+1/4)=sqrt(a)*v(n)+sqrt((1-a)/(beta*m))*N(n)\n",
    "## v(n+1/2)=v(n+1/4)+b*dt/2*f(n)/m\n",
    "## r(n+1/2)=r(n)+b*dt/2*v(n+1/2)\n",
    "## H(n)->H(n+1)\n",
    "## r(n+1)=r(n+1/2)+b*dt/2*v(n+1/2)\n",
    "## v(n+3/4)=v(n+1/2)+b*dt/2*f(n+1)/m\n",
    "## v(n+1)=sqrt(a)*v(n+3/4)+sqrt((1-a)/(beta*m))*N(n+1)\n",
    "\n",
    "\n",
    "\n",
    "for j in range(Nmax-1):\n",
    "    # Gauss(0,1) white noise\n",
    "    grandNp = np.random.default_rng().normal(loc=0.0, scale=1.0, size=3)\n",
    "    grandNm = np.random.default_rng().normal(loc=0.0, scale=1.0, size=3)\n",
    "    \n",
    "    v14 = np.sqrt(intma)@velocity[i,:] + np.sqrt((1-intma)@Minv/beta)@grandNp\n",
    "    _updategamma(position[i,0],v14[0],v14[1],v14[2])\n",
    "    _updateintm()\n",
    "    _updateforce(i,position[i,0],v14[0],v14[1],v14[2])\n",
    "    ###_updateMinverse(position[i,0])\n",
    "    \n",
    "    v24 = v14 + dt/2 * intmb@Minv@force[i,:]\n",
    "    _updategamma(position[i,0],v24[0],v24[1],v24[2])\n",
    "    _updateintm()\n",
    "    ###_updateforce(i,position[i,0],v24[0],v24[1],v24[2])\n",
    "    ###_updateMinverse(position[i,0])\n",
    "    \n",
    "    \n",
    "    p12 = position[i,:] + dt/2 * intmb@v24\n",
    "    _updategamma(p12[0],v24[0],v24[1],v24[2])\n",
    "    _updateintm()\n",
    "    ###_updateforce(i,p12[0],v24[0],v24[1],v24[2])\n",
    "    _updateMinverse(p12[0])\n",
    "    \n",
    "    ###force[i+1,:] = _forcevalue(i,p12[0],v24[0],v24[1],v24[2])\n",
    "    #_updateforce(i+1,p12[0],v24[0],v24[1],v24[2])\n",
    "    \n",
    "    position[i+1,:] = p12 + dt/2 * intmb@v24\n",
    "    _updategamma(position[i+1,0],v24[0],v24[1],v24[2])\n",
    "    _updateintm()\n",
    "    _updateforce(i+1,position[i+1,0],v24[0],v24[1],v24[2])\n",
    "    _updateMinverse(position[i+1,0])\n",
    "    \n",
    "    v34 = v24 + dt/2 * intmb@Minv@force[i+1,:]\n",
    "    _updategamma(position[i+1,0],v34[0],v34[1],v34[2])\n",
    "    _updateintm()\n",
    "    ###_updateforce(i,p12[0],v24[0],v24[1],v24[2])\n",
    "    ###_updateMinverse(position[i+1,0])\n",
    "    \n",
    "    \n",
    "    velocity[i+1,:] = np.sqrt(intma)@v34 + np.sqrt((1-intma)@Minv/beta)@grandNm\n",
    "    _updategamma(position[i+1,0],velocity[i+1,0],velocity[i+1,1],velocity[i+1,2])\n",
    "    _updateintm()\n",
    "    ###_updateforce(i,p12[0],v24[0],v24[1],v24[2])\n",
    "    ###_updateMinverse(position[i+1,0])\n",
    "    \n",
    "    i=i+1"
   ]
  },
  {
   "cell_type": "code",
   "execution_count": 17,
   "metadata": {},
   "outputs": [
    {
     "name": "stdout",
     "output_type": "stream",
     "text": [
      "i= 9999\n",
      "gamma=\n",
      "[[ 5.37322631e+06 -0.00000000e+00  0.00000000e+00]\n",
      " [-0.00000000e+00  1.16767089e+01 -0.00000000e+00]\n",
      " [ 0.00000000e+00 -0.00000000e+00  2.33534177e+01]]\n",
      "intma=\n",
      "[[0.99999946 0.         0.        ]\n",
      " [0.         1.         0.        ]\n",
      " [0.         0.         1.        ]]\n",
      "intmb=\n",
      "[[1. 0. 0.]\n",
      " [0. 1. 0.]\n",
      " [0. 0. 1.]]\n",
      "Minverse=\n",
      "[[ 6.67316335e+13  0.00000000e+00  0.00000000e+00]\n",
      " [ 0.00000000e+00  6.67316335e+13 -0.00000000e+00]\n",
      " [ 0.00000000e+00 -0.00000000e+00  5.93170075e+25]]\n",
      "np.sqrt(intma)@velocity[i,:]\n",
      "[1.15381584e+05 5.32990371e+04 4.10218169e+00]\n",
      "\n",
      "np.sqrt((1-intma)@Minv/beta)@grandNp\n",
      "[-6.11159708e+02 -6.11163624e+02 -8.34788687e-05]\n",
      "\n",
      "\n",
      "grandNp= [-0.92537467  1.43865433 -0.39121644]\n",
      "grandNm= [ 1.56891767 -0.11587803  0.08451346]\n",
      "p12= [ 3.25911584e-05 -1.54518615e-05  2.33628230e-09]\n",
      "v14= [1.15249619e+05 5.31670068e+04 4.09957228e+00]\n",
      "v24= [1.15249619e+05 5.31670068e+04 4.09957228e+00]\n",
      "v34= [1.15249619e+05 5.31670068e+04 4.09957228e+00]\n",
      "\n",
      "position[i-1,:]= [ 3.25853959e-05 -1.54545199e-05  2.33607732e-09]\n",
      "position[i,:] =  [ 3.25969209e-05 -1.54492032e-05  2.33648728e-09]\n",
      "velocity[i-1,:]= [1.15860810e+05 5.37781704e+04 4.09965585e+00]\n",
      "velocity[i,:] =  [1.15381615e+05 5.32990371e+04 4.10218169e+00]\n",
      "force[i-1,:]= [-8.81739243e-12 -0.00000000e+00 -0.00000000e+00]\n",
      "force[i,:] =  [-8.81739243e-12 -0.00000000e+00 -0.00000000e+00]\n"
     ]
    }
   ],
   "source": [
    "print(\"i=\",i)\n",
    "print(\"gamma=\")\n",
    "print(gamma)\n",
    "print(\"intma=\")\n",
    "print(intma)\n",
    "print(\"intmb=\")\n",
    "print(intmb)\n",
    "print(\"Minverse=\")\n",
    "print(Minv)\n",
    "\n",
    "print(\"np.sqrt(intma)@velocity[i,:]\")\n",
    "print(np.sqrt(intma)@velocity[i,:])\n",
    "print(\"\")\n",
    "print(\"np.sqrt((1-intma)@Minv/beta)@grandNp\")\n",
    "print(np.sqrt((1-intma)@Minv/beta)@grandNp)\n",
    "print(\"\")\n",
    "\n",
    "print(\"\")\n",
    "print(\"grandNp=\",grandNp)\n",
    "print(\"grandNm=\",grandNm)\n",
    "print(\"p12=\",p12)\n",
    "print(\"v14=\",v14)\n",
    "print(\"v24=\",v24)\n",
    "print(\"v34=\",v34)\n",
    "\n",
    "print(\"\")\n",
    "#print(\"i=\",i)\n",
    "print(\"position[i-1,:]=\",position[i-1,:])\n",
    "print(\"position[i,:] = \",position[i,:])\n",
    "print(\"velocity[i-1,:]=\",velocity[i-1,:])\n",
    "print(\"velocity[i,:] = \",velocity[i,:])\n",
    "print(\"force[i-1,:]=\",force[i-1,:])\n",
    "print(\"force[i,:] = \",force[i,:])"
   ]
  },
  {
   "cell_type": "code",
   "execution_count": null,
   "metadata": {},
   "outputs": [],
   "source": []
  },
  {
   "cell_type": "code",
   "execution_count": 18,
   "metadata": {},
   "outputs": [
    {
     "data": {
      "text/plain": [
       "<function matplotlib.pyplot.show(*args, **kw)>"
      ]
     },
     "execution_count": 18,
     "metadata": {},
     "output_type": "execute_result"
    },
    {
     "data": {
      "image/png": "[encoded data removed]",
      "text/plain": [
       "<Figure size 432x288 with 1 Axes>"
      ]
     },
     "metadata": {
      "needs_background": "light"
     },
     "output_type": "display_data"
    }
   ],
   "source": [
    "plt.plot(position[:,0],\"-\",color='red')\n",
    "plt.xlabel('Time (ns)')\n",
    "plt.ylabel('Z, vertical position (m)')\n",
    "plt.show"
   ]
  },
  {
   "cell_type": "code",
   "execution_count": 19,
   "metadata": {},
   "outputs": [
    {
     "data": {
      "text/plain": [
       "<function matplotlib.pyplot.show(*args, **kw)>"
      ]
     },
     "execution_count": 19,
     "metadata": {},
     "output_type": "execute_result"
    },
    {
     "data": {
      "image/png": "[encoded data removed]",
      "text/plain": [
       "<Figure size 432x288 with 1 Axes>"
      ]
     },
     "metadata": {
      "needs_background": "light"
     },
     "output_type": "display_data"
    }
   ],
   "source": [
    "plt.plot(position[:,1],\"-\",color=\"green\")\n",
    "plt.xlabel('Time (ns)')\n",
    "plt.ylabel('X, horizon position (m)')\n",
    "plt.show"
   ]
  },
  {
   "cell_type": "code",
   "execution_count": 20,
   "metadata": {},
   "outputs": [
    {
     "data": {
      "text/plain": [
       "<function matplotlib.pyplot.show(*args, **kw)>"
      ]
     },
     "execution_count": 20,
     "metadata": {},
     "output_type": "execute_result"
    },
    {
     "data": {
      "image/png": "[encoded data removed]",
      "text/plain": [
       "<Figure size 432x288 with 1 Axes>"
      ]
     },
     "metadata": {
      "needs_background": "light"
     },
     "output_type": "display_data"
    }
   ],
   "source": [
    "plt.plot(position[:,2],\"-\",color=\"orange\")\n",
    "plt.xlabel('Time (ns)')\n",
    "plt.ylabel('Theta, rotation angle (rad)')\n",
    "plt.show"
   ]
  },
  {
   "cell_type": "code",
   "execution_count": 21,
   "metadata": {},
   "outputs": [
    {
     "data": {
      "text/plain": [
       "<function matplotlib.pyplot.show(*args, **kw)>"
      ]
     },
     "execution_count": 21,
     "metadata": {},
     "output_type": "execute_result"
    },
    {
     "data": {
      "image/png": "[encoded data removed]",
      "text/plain": [
       "<Figure size 432x288 with 1 Axes>"
      ]
     },
     "metadata": {
      "needs_background": "light"
     },
     "output_type": "display_data"
    }
   ],
   "source": [
    "plt.plot(velocity[:,0],\"-\")\n",
    "plt.plot([0,Nmax],[0,0],color='red')\n",
    "plt.xlabel('Time (ns)')\n",
    "plt.ylabel('vz (m/s)')\n",
    "plt.show"
   ]
  },
  {
   "cell_type": "code",
   "execution_count": 22,
   "metadata": {},
   "outputs": [
    {
     "data": {
      "text/plain": [
       "<function matplotlib.pyplot.show(*args, **kw)>"
      ]
     },
     "execution_count": 22,
     "metadata": {},
     "output_type": "execute_result"
    },
    {
     "data": {
      "image/png": "[encoded data removed]",
      "text/plain": [
       "<Figure size 432x288 with 1 Axes>"
      ]
     },
     "metadata": {
      "needs_background": "light"
     },
     "output_type": "display_data"
    }
   ],
   "source": [
    "plt.plot(velocity[:,1],\"-\")\n",
    "plt.plot([0,Nmax],[0,0],color='red')\n",
    "plt.xlabel('Time (ns)')\n",
    "plt.ylabel('vx (m/s)')\n",
    "plt.show"
   ]
  },
  {
   "cell_type": "code",
   "execution_count": 23,
   "metadata": {},
   "outputs": [
    {
     "data": {
      "text/plain": [
       "<function matplotlib.pyplot.show(*args, **kw)>"
      ]
     },
     "execution_count": 23,
     "metadata": {},
     "output_type": "execute_result"
    },
    {
     "data": {
      "image/png": "[encoded data removed]",
      "text/plain": [
       "<Figure size 432x288 with 1 Axes>"
      ]
     },
     "metadata": {
      "needs_background": "light"
     },
     "output_type": "display_data"
    }
   ],
   "source": [
    "plt.plot(velocity[:,2],\"-\")\n",
    "plt.plot([0,Nmax],[0,0],color='red')\n",
    "plt.xlabel('Time (ns)')\n",
    "plt.ylabel('vtheta (rad/s)')\n",
    "plt.show"
   ]
  },
  {
   "cell_type": "code",
   "execution_count": null,
   "metadata": {},
   "outputs": [],
   "source": []
  },
  {
   "cell_type": "code",
   "execution_count": null,
   "metadata": {},
   "outputs": [],
   "source": []
  }
 ],
 "metadata": {
  "kernelspec": {
   "display_name": "Python 3",
   "language": "python",
   "name": "python3"
  },
  "language_info": {
   "codemirror_mode": {
    "name": "ipython",
    "version": 3
   },
   "file_extension": ".py",
   "mimetype": "text/x-python",
   "name": "python",
   "nbconvert_exporter": "python",
   "pygments_lexer": "ipython3",
   "version": "3.7.4"
  }
 },
 "nbformat": 4,
 "nbformat_minor": 4
}
